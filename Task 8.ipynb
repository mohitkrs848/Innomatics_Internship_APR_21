{
 "cells": [
  {
   "cell_type": "markdown",
   "metadata": {},
   "source": [
    "## Innomatics Internship APR 21\n",
    "### Week 4 - Task - 8\n",
    "###### AUTHOR : MOHIT KUMAR\n",
    "###### EMAIL : mohitkrs848@gmail.com"
   ]
  },
  {
   "cell_type": "code",
   "execution_count": 1,
   "metadata": {},
   "outputs": [
    {
     "name": "stdout",
     "output_type": "stream",
     "text": [
      "1.09 1\n",
      "0.696\n"
     ]
    }
   ],
   "source": [
    "#Question 1 : Binomial Distribution I\n",
    "\n",
    "import math \n",
    "def comb(n, x):\n",
    "    return math.factorial(n) / (math.factorial(x) * math.factorial(n-x))\n",
    "def b(x, n, p):\n",
    "    return comb(n, x) * p**x * (1-p)**(n-x)\n",
    "\n",
    "l, r = list(map(float, input().split(' ')))\n",
    "odds = l / r\n",
    "print(round(sum([b(i, 6, odds / (1 + odds)) for i in range(3, 7)]), 3))"
   ]
  },
  {
   "cell_type": "code",
   "execution_count": 2,
   "metadata": {},
   "outputs": [
    {
     "name": "stdout",
     "output_type": "stream",
     "text": [
      "12 10\n",
      "0.891\n",
      "0.342\n"
     ]
    }
   ],
   "source": [
    "#Question 2 : Binomial Distribution II\n",
    "\n",
    "import math\n",
    "\n",
    "def comb(n, x):\n",
    "    return math.factorial(n) / (math.factorial(x) * math.factorial(n-x))\n",
    "\n",
    "def binomial(x, n, p):\n",
    "    return comb(n,x)*(p**x)*(1-p)**(n-x)\n",
    "\n",
    "\n",
    "p, n = list(map(int, input().split(\" \")))\n",
    "print(round(sum([binomial(i, n, p/100) for i in range(3)]), 3))\n",
    "print(round(sum([binomial(i, n, p/100) for i in range(2, n+1)]), 3))"
   ]
  },
  {
   "cell_type": "code",
   "execution_count": 3,
   "metadata": {},
   "outputs": [
    {
     "name": "stdout",
     "output_type": "stream",
     "text": [
      "0.401\n",
      "0.341\n"
     ]
    }
   ],
   "source": [
    "#Question 3 : Normal Distribution I\n",
    "\n",
    "import math\n",
    "\n",
    "mean = 20\n",
    "std = 2\n",
    "def cdf(mean, std,x):\n",
    "    return 1/2*(1+math.erf((x-mean)/std/2**(1/2)))\n",
    "\n",
    "print(round(cdf(mean,std,19.5),3))\n",
    "print(round(cdf(mean,std,22)-cdf(mean,std,20),3))"
   ]
  },
  {
   "cell_type": "code",
   "execution_count": 4,
   "metadata": {},
   "outputs": [
    {
     "name": "stdout",
     "output_type": "stream",
     "text": [
      "15.87\n",
      "84.13\n",
      "15.87\n"
     ]
    }
   ],
   "source": [
    "#Question 4 : Normal Distribution II\n",
    "\n",
    "import math\n",
    "\n",
    "mean = 70\n",
    "std = 10\n",
    "def cdf(mean,std,x):\n",
    "    return 1/2*(1+math.erf((x-mean)/std/2**(1/2)))\n",
    "\n",
    "print(round(((1-cdf(mean,std,80))*100),2))\n",
    "print(round(((1-cdf(mean,std,60))*100),2))\n",
    "print(round(((cdf(mean,std,60))*100),2))"
   ]
  },
  {
   "cell_type": "code",
   "execution_count": 5,
   "metadata": {},
   "outputs": [
    {
     "name": "stdout",
     "output_type": "stream",
     "text": [
      "0.0098\n"
     ]
    }
   ],
   "source": [
    "#Question 5 : The Central Limit Theorem I\n",
    "\n",
    "import math\n",
    "\n",
    "mean = 205\n",
    "std = 15\n",
    "n = 49\n",
    "maxi = 9800\n",
    "mean_sum = n * mean\n",
    "std_sum = std * n**(1/2)\n",
    "\n",
    "def cdf(mean,std,x):\n",
    "    return 1/2*(1+math.erf((x-mean)/std/2**(1/2)))\n",
    "\n",
    "print(round(cdf(mean_sum,std_sum,maxi),4))"
   ]
  },
  {
   "cell_type": "code",
   "execution_count": 6,
   "metadata": {},
   "outputs": [
    {
     "name": "stdout",
     "output_type": "stream",
     "text": [
      "0.6915\n"
     ]
    }
   ],
   "source": [
    "#Question 6 : The Central Limit Theorem II\n",
    "\n",
    "import math\n",
    "\n",
    "mean = 2.4\n",
    "std = 2\n",
    "n = 100\n",
    "maxi = 250\n",
    "mean_sum = n * mean\n",
    "std_sum = std * n**(1/2)\n",
    "\n",
    "def cdf(mean,std,x):\n",
    "    return 1/2*(1+math.erf((x-mean)/std/2**(1/2)))\n",
    "\n",
    "print(round(cdf(mean_sum,std_sum,maxi), 4))"
   ]
  },
  {
   "cell_type": "code",
   "execution_count": 7,
   "metadata": {},
   "outputs": [
    {
     "name": "stdout",
     "output_type": "stream",
     "text": [
      "484.32\n",
      "515.68\n"
     ]
    }
   ],
   "source": [
    "#Question 7 : The Central Limit Theorem III\n",
    "\n",
    "mean = 500\n",
    "n = 100\n",
    "std = 80/n**(1/2)\n",
    "z = 1.96\n",
    "\n",
    "print(round(mean-std*z,2))\n",
    "print(round(mean+std*z,2))"
   ]
  },
  {
   "cell_type": "code",
   "execution_count": 8,
   "metadata": {},
   "outputs": [
    {
     "name": "stdout",
     "output_type": "stream",
     "text": [
      "10\n",
      "10 9.8 8 7.8 7.7 7 6 5 4 2 \n",
      "200 44 32 24 22 17 15 12 8 4\n",
      "0.612\n"
     ]
    }
   ],
   "source": [
    "#Question 8 : Pearson Correlation Coefficient I\n",
    "\n",
    "n = int(input())\n",
    "X = list(map(float,input().split()))\n",
    "Y = list(map(float,input().split()))\n",
    "xMean =(sum(X)/n)\n",
    "yMean =(sum(Y)/n)\n",
    "xStd = (sum([(i-xMean)**2 for i in X])/n)**0.5\n",
    "yStd =(sum([(i-yMean)**2 for i in Y])/n)**0.5\n",
    "cov = sum([(X[i] - xMean)*(Y[i] -yMean) for i in range(n)])\n",
    "corr =cov/(n*xStd*yStd)\n",
    "print(round(corr,3))"
   ]
  },
  {
   "cell_type": "code",
   "execution_count": null,
   "metadata": {},
   "outputs": [],
   "source": [
    "#Question 9 : Least Square Regression Line\n",
    "\n",
    "import statistics\n",
    "\n",
    "def corr(x,y,n):\n",
    "    mean_x = statistics.mean(x)\n",
    "    mean_y = statistics.mean(y)\n",
    "    std_x = statistics.pstdev(x)\n",
    "    std_y = statistics.pstdev(y)\n",
    "    c = 0\n",
    "    for i in range(n):\n",
    "        c = c + (x[i] - mean_x) * (y[i] - mean_y)\n",
    "    return c / (n * std_x * std_y)\n",
    "\n",
    "n = int(input())\n",
    "x = list(map(float,input().split()))\n",
    "y = list(map(float,input().split()))\n",
    "\n",
    "print (round(corr(x,y,n),3))"
   ]
  },
  {
   "cell_type": "code",
   "execution_count": 12,
   "metadata": {},
   "outputs": [
    {
     "name": "stdout",
     "output_type": "stream",
     "text": [
      "2 7\n",
      "0.18 0.89 109.85\n",
      "1.0 0.26 155.72\n",
      "0.92 0.11 137.66\n",
      "0.07 0.37 76.17\n",
      "0.85 0.16 139.75\n",
      "0.99 0.41 162.6\n",
      "0.87 0.47 151.77\n",
      "4\n",
      "0.49 0.18\n",
      "0.57 0.83\n",
      "0.56 0.64\n",
      "0.76 0.18\n",
      "105.21\n",
      "142.67\n",
      "132.94\n",
      "129.7\n"
     ]
    }
   ],
   "source": [
    "#Question 10:  Multiple Linear Regression\n",
    "\n",
    "from sklearn import linear_model\n",
    "\n",
    "m, n = map(int, input().split())\n",
    "X, Y = [], []\n",
    "\n",
    "for i in range(n):\n",
    "    x = [0]\n",
    "    elements = list(map(float, input().split()))\n",
    "    for j in range(len(elements)):\n",
    "        if j < m:\n",
    "            x.append(elements[j])\n",
    "        else:\n",
    "            Y.append(elements[j])\n",
    "    X.append(x)\n",
    "\n",
    "model = linear_model.LinearRegression()\n",
    "model.fit(X, Y)\n",
    "a = model.intercept_\n",
    "b = model.coef_\n",
    "\n",
    "q = int(input())\n",
    "new_X = []\n",
    "for i in range(q):\n",
    "    x = [0]\n",
    "    elements = list(map(float, input().split()))\n",
    "    for j in range(len(elements)):\n",
    "        x.append(elements[j])\n",
    "    new_X.append(x)\n",
    "\n",
    "result = model.predict(new_X)\n",
    "for i in range(len(result)):\n",
    "    print(round(result[i],2))"
   ]
  }
 ],
 "metadata": {
  "kernelspec": {
   "display_name": "Python 3",
   "language": "python",
   "name": "python3"
  },
  "language_info": {
   "codemirror_mode": {
    "name": "ipython",
    "version": 3
   },
   "file_extension": ".py",
   "mimetype": "text/x-python",
   "name": "python",
   "nbconvert_exporter": "python",
   "pygments_lexer": "ipython3",
   "version": "3.7.4"
  }
 },
 "nbformat": 4,
 "nbformat_minor": 2
}
