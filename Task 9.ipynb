{
 "cells": [
  {
   "cell_type": "markdown",
   "metadata": {},
   "source": [
    "## Innomatics Internship APR 21\n",
    "### Week 5 - Task - 9\n",
    "###### AUTHOR : MOHIT KUMAR\n",
    "###### EMAIL : mohitkrs848@gmail.com"
   ]
  },
  {
   "cell_type": "code",
   "execution_count": 32,
   "metadata": {},
   "outputs": [],
   "source": [
    "import matplotlib.pyplot as plt\n",
    "import numpy as np\n",
    "from scipy.stats import norm,t\n",
    "import statistics as st"
   ]
  },
  {
   "cell_type": "markdown",
   "metadata": {},
   "source": [
    "#### Hypothesis Testing\n",
    "Hypothesis testing in statistics is a way for you to test the results of a survey or experiment to see if you have meaningful results. You’re basically testing whether your results are valid by figuring out the odds that your results have happened by chance. If your results may have happened by chance, the experiment won’t be repeatable and so has little use.\n",
    "\n",
    "* __Null Hypothesis:__ the hypothesis that sample observations result purely from chance. The null hypothesis tends to state that there’s no change.\n",
    "\n",
    "* __Alternative Hypothesis:__ the hypothesis that sample observations are influenced by some non-random cause.\n",
    "\n",
    "* __P-value:__ the probability of obtaining the observed results of a test, assuming that the null hypothesis is correct; a smaller p-value means that there is stronger evidence in favor of the alternative hypothesis.\n",
    "\n",
    "* __Alpha:__ the significance level; the probability of rejecting the null hypothesis when it is true — also known as Type 1 error."
   ]
  },
  {
   "cell_type": "markdown",
   "metadata": {},
   "source": [
    "#### Steps for Hypothesis Testing\n",
    "1. State your null and alternative hypotheses. To reiterate, the null hypothesis typically states that everything is as normally was — that nothing has changed.\n",
    "\n",
    "    __Alternate Hypothesis(Bold Claim) :__\n",
    "$$ H_1 \\Rightarrow  \\leq  ,  \\geq  ,  \\neq $$\n",
    "\n",
    "    __Null Hypothesis (Status Quo/Ground Truth):__\n",
    "$$ H_0 \\Rightarrow  >  ,  <  , = $$\n",
    "\n",
    "2. Set your significance level, the alpha. This is typically set at 5% but can be set at other levels depending on the situation and how severe it is to committing a type 1 and/or 2 error.<br>\n",
    "3. Collect sample data and calculate sample statistics.\n",
    "4. Calculate the p-value given sample statistics. Once you get the sample statistics, you can determine the p-value through different methods. The most common methods are the T-score and Z-score for normal distributions. Learn more about T-score and Z-score here.\n",
    "If population Standard deviation $(\\sigma)$ is known then we use Z-score;$$ \\text{Z =}\\ \\frac{\\bar{X}-\\mu}{\\frac{\\sigma}{\\sqrt{n}}}    $$\n",
    "\n",
    "If population Standard deviation $(\\sigma)$ is unknown then we can sample standard deviation $(s)$ and calculate t-score;$$ \\text{t =}\\ \\frac{\\bar{X}-\\mu}{\\frac{s}{\\sqrt{n}}}    $$\n",
    "where,$$ s = \\sqrt\\frac{\\sum({x-\\bar{x})^{2}}}{n-1}$$\n",
    "5. Reject or do not reject the null hypothesis.\n",
    "If test statistic is Z-score :\n",
    "Two tailed Z-test: $$ |z| \\ > z_{\\frac{\\alpha}{2}} \\ \\Rightarrow \\ \\text{Accept $H_{1}$} \\ or \\ \\ \\text{Reject $H_{0}$} $$\n",
    "Right tailed Z-test: $$ z \\ > z_{\\alpha} \\ \\Rightarrow \\ \\text{Accept $H_{1}$} \\ or \\ \\ \\text{Reject $H_{0}$} $$\n",
    "Left tailed Z-test: $$ z \\ < z_{\\alpha} \\ \\Rightarrow \\ \\text{Accept $H_{1}$} \\ or \\ \\ \\text{Reject $H_{0}$} $$\n",
    "If test statistic is t-score :\n",
    "Two tailed t-test: $$ |t| \\ > t_{n-1,\\frac{\\alpha}{2}} \\ \\Rightarrow \\ \\text{Accept $H_{1}$} \\ or \\ \\ \\text{Reject $H_{0}$} $$\n",
    "Right tailed Z-test: $$ t \\ > t_{(n-1),\\frac{\\alpha}{2}} \\ \\Rightarrow \\ \\text{Accept $H_{1}$} \\ or \\ \\ \\text{Reject $H_{0}$} $$\n",
    "Left tailed Z-test: $$ t \\ < t_{(n-1),\\frac{\\alpha}{2}} \\ \\Rightarrow \\ \\text{Accept $H_{1}$} \\ or \\ \\ \\text{Reject $H_{0}$} $$\n",
    "where;\n",
    "\n",
    "$ \\ \\ \\alpha \\ \\ \\ $ is the \"Critical Value\";\n",
    "(n-1) is the degress of Freedom\n",
    "$\\underline{Step-5.2:}$ Compute p-value - $ P(\\text{Test Statistics}|H_{0})$\n",
    "For two tailed test:$$ \\text{p value} \\ = 2*(1.0-cdf(\\text{test statistic})) $$\n",
    "For one tailed test:$$ \\text{p value} \\ = (1.0-cdf(\\text{test statistic}) $$Now, $$ if \\ (\\text{p value} < \\alpha) \\ \\Rightarrow \\ \\text{Accept $H_{1}$} \\ or \\ \\ \\text{Reject $H_{0}$} $$"
   ]
  },
  {
   "cell_type": "code",
   "execution_count": 2,
   "metadata": {},
   "outputs": [],
   "source": [
    "\n",
    "def z_score(sample_mean,sample_size,pop_mean,pop_std):\n",
    "    numerator = sample_mean - pop_mean\n",
    "    denominator = pop_std/(sample_size)**0.5\n",
    "    return numerator/denominator"
   ]
  },
  {
   "cell_type": "code",
   "execution_count": 3,
   "metadata": {},
   "outputs": [],
   "source": [
    "def t_score(sample_mean,sample_size,pop_mean,sample_std):\n",
    "    numerator = sample_mean - pop_mean\n",
    "    denominator = sample_std/(sample_size)**0.5\n",
    "    return numerator/denominator"
   ]
  },
  {
   "cell_type": "markdown",
   "metadata": {},
   "source": [
    "__Q-1: Pista House selling Hyderabadi Chicken Dum biryani claims that each parcel packet has 500 grams of biryani (also mentioned on the label of packet). You are sceptic of their claims and believe that on average each packet does not contain 500 grams of biryani. How do you prove your claim? (Given that the population std is 50)__\n"
   ]
  },
  {
   "cell_type": "markdown",
   "metadata": {},
   "source": [
    "Step 1 :  \n",
    "__Alternate Hypothesis :__\n",
    "That Each packet on average doesn't contain 500 grams of biryani.\n",
    "$$H_1 \\Rightarrow Mean \\neq 500 $$\n",
    "__Null Hypothesis :__\n",
    "That Each packet on average contain 500 grams of biryani\n",
    "$$H_1 \\Rightarrow Mean = 500 $$\n",
    "\n",
    "Step 2 :\n",
    "- Collect a sample of size n = 10$$ [490, 220, 470, 500, 495, 496, 496, 498, 508, 480] $$\n",
    "- Compute sample mean$$ \\bar{x} \\ = \\ ? $$\n",
    "\n",
    "Step 3: Compute Test Statistic:$$ z = \\frac{\\bar{x} - \\mu}{\\sigma/\\sqrt[2]{n}}$$\n",
    "\n",
    "Step 4: Decide $ \\alpha $ or significance level\n",
    "\n",
    "Step 5.1: ? tailed z-test:$$ reject \\ H_0 \\ if \\ ? $$\n",
    "\n",
    "Step 5.2: Compute p-value\n"
   ]
  },
  {
   "cell_type": "code",
   "execution_count": 4,
   "metadata": {},
   "outputs": [
    {
     "name": "stdout",
     "output_type": "stream",
     "text": [
      "465.3\n"
     ]
    }
   ],
   "source": [
    "s_mean = 500\n",
    "l = [490, 220, 470, 500, 495, 496, 496, 498, 508, 480]\n",
    "sample_size = len(l)\n",
    "sample_mean = sum(l)/len(l)\n",
    "\n",
    "print(sample_mean)"
   ]
  },
  {
   "cell_type": "code",
   "execution_count": 6,
   "metadata": {},
   "outputs": [
    {
     "name": "stdout",
     "output_type": "stream",
     "text": [
      "1.959963984540054\n"
     ]
    }
   ],
   "source": [
    "# Two Tail - Calculating the z-critical value\n",
    "\n",
    "confidence_level = 0.95\n",
    "\n",
    "alpha = 1 - confidence_level\n",
    "\n",
    "z_critical = norm.ppf(1 - alpha/2) # Two tailed Z score for 95% Confidence Level\n",
    "\n",
    "print(z_critical)\n"
   ]
  },
  {
   "cell_type": "code",
   "execution_count": 7,
   "metadata": {},
   "outputs": [],
   "source": [
    "# Defining the sample and population parameters\n",
    "\n",
    "sample_size = 10\n",
    "sample_mean = 465.3\n",
    "pop_mean = 500\n",
    "pop_std = 50"
   ]
  },
  {
   "cell_type": "code",
   "execution_count": 8,
   "metadata": {},
   "outputs": [
    {
     "name": "stdout",
     "output_type": "stream",
     "text": [
      "-211.39397342403117\n"
     ]
    },
    {
     "data": {
      "text/plain": [
       "-2.1946206961568544"
      ]
     },
     "execution_count": 8,
     "metadata": {},
     "output_type": "execute_result"
    }
   ],
   "source": [
    "# Calculating the z-score\n",
    "\n",
    "z = z_score(sample_size, sample_mean, pop_mean, pop_std)\n",
    "\n",
    "print(z)\n",
    "-2.1946206961568544"
   ]
  },
  {
   "cell_type": "code",
   "execution_count": 9,
   "metadata": {},
   "outputs": [
    {
     "data": {
      "text/plain": [
       "Text(465.3, 0.0007, 'x_bar')"
      ]
     },
     "execution_count": 9,
     "metadata": {},
     "output_type": "execute_result"
    },
    {
     "data": {
      "image/png": "[encoded data removed]",
      "text/plain": [
       "<Figure size 432x288 with 1 Axes>"
      ]
     },
     "metadata": {
      "needs_background": "light"
     },
     "output_type": "display_data"
    }
   ],
   "source": [
    "# Ploting the sampling distribution with rejection regions\n",
    "\n",
    "# Defining the x minimum and x maximum\n",
    "x_min = 400\n",
    "x_max = 600\n",
    "\n",
    "\n",
    "# Defining the sampling distribution mean and sampling distribution std\n",
    "mean = pop_mean\n",
    "std = pop_std / sample_size**0.5\n",
    "\n",
    "\n",
    "# Ploting the graph and setting the x limits\n",
    "x = np.linspace(x_min, x_max, 100)\n",
    "y = norm.pdf(x, mean, std)\n",
    "plt.xlim(x_min, x_max)\n",
    "plt.plot(x, y)\n",
    "\n",
    "\n",
    "# Computing the left and right critical values (Two tailed Test)\n",
    "z_critical_left = pop_mean + (-z_critical * std)\n",
    "z_critical_right = pop_mean + (z_critical * std)\n",
    "\n",
    "\n",
    "# Shading the left rejection region\n",
    "x1 = np.linspace(x_min, z_critical_left, 100)\n",
    "y1 = norm.pdf(x1, mean, std)\n",
    "plt.fill_between(x1, y1, color='orange')\n",
    "\n",
    "\n",
    "# Shading the right rejection region\n",
    "x2 = np.linspace(z_critical_right, x_max, 100)\n",
    "y2 = norm.pdf(x2, mean, std)\n",
    "plt.fill_between(x2, y2, color='orange')\n",
    "\n",
    "\n",
    "# Ploting the sample mean and concluding the results \n",
    "plt.scatter(sample_mean, 0)\n",
    "plt.annotate(\"x_bar\", (sample_mean, 0.0007))\n",
    "\n",
    "\n",
    "# In this case sample mean falls in the rejection region\n",
    "# i.e. here we reject the Null Hypothesis"
   ]
  },
  {
   "cell_type": "code",
   "execution_count": 10,
   "metadata": {},
   "outputs": [
    {
     "name": "stdout",
     "output_type": "stream",
     "text": [
      "Reject Null Hypothesis\n"
     ]
    }
   ],
   "source": [
    "# Conclusion using z test\n",
    "\n",
    "if(np.abs(z) > z_critical):\n",
    "    print(\"Reject Null Hypothesis\")\n",
    "else:\n",
    "    print(\"Fail to reject Null Hypothesis\")"
   ]
  },
  {
   "cell_type": "code",
   "execution_count": 11,
   "metadata": {},
   "outputs": [
    {
     "name": "stdout",
     "output_type": "stream",
     "text": [
      "p_value =  0.0\n",
      "Reject Null Hypothesis\n"
     ]
    }
   ],
   "source": [
    "# Conclusion using p test\n",
    "\n",
    "p_value = 2 * (1.0 - norm.cdf(np.abs(z)))\n",
    "\n",
    "print(\"p_value = \", p_value)\n",
    "\n",
    "if(p_value < alpha):\n",
    "    print(\"Reject Null Hypothesis\")\n",
    "else:\n",
    "    print(\"Fail to reject Null Hypothesis\")"
   ]
  },
  {
   "cell_type": "markdown",
   "metadata": {},
   "source": [
    "__Q-2: You have developed a new Natural Language Processing Algorithms and done a user study. You claim that the average rating given by the users is greater than 4 on a scale of 1 to 5. How do you prove this to your client? (Given that the population std is 0.5)__"
   ]
  },
  {
   "cell_type": "markdown",
   "metadata": {},
   "source": [
    "- Step - 1:\n",
    "Alternate Hypothesis (Bold Claim):$$ H_1: \\ Mean > 4 $$\n",
    "Null Hypothesis (Status Quo):$$ H_0: \\ Mean \\leq \\ 4 $$\n",
    "\n",
    "- Step - 2:\n",
    "\n",
    "Collect a sample of size n = 10$$ [4, 3, 5, 4, 5, 3, 5, 5, 4, 2, 4, 5, 5, 4, 4, 5, 4, 5, 4, 5] $$\n",
    "Compute sample mean$$ \\bar{x} \\ = \\ ? $$\n",
    "- Step - 3: Compute Test Statistic:$$ z = \\frac{\\bar{x} - \\mu}{\\sigma/\\sqrt[2]{n}}$$\n",
    "\n",
    "- Step - 4: Decide $ \\alpha $\n",
    "\n",
    "- Step - 5.1: ? tailed z-test:$$ reject \\ H_0 \\ if ? $$\n",
    "\n",
    "- Step - 5.2: Compute p-value"
   ]
  },
  {
   "cell_type": "code",
   "execution_count": 33,
   "metadata": {},
   "outputs": [
    {
     "data": {
      "text/plain": [
       "4.25"
      ]
     },
     "execution_count": 33,
     "metadata": {},
     "output_type": "execute_result"
    }
   ],
   "source": [
    "sample = [4, 3, 5, 4, 5, 3, 5, 5, 4, 2, 4, 5, 5, 4, 4, 5, 4, 5, 4, 5]\n",
    "sum(sample)/len(sample)"
   ]
  },
  {
   "cell_type": "code",
   "execution_count": 12,
   "metadata": {},
   "outputs": [
    {
     "name": "stdout",
     "output_type": "stream",
     "text": [
      "1.6448536269514722\n"
     ]
    }
   ],
   "source": [
    "# One Tail - Calculating the z-critical value\n",
    "\n",
    "confidence_level = 0.95\n",
    "\n",
    "alpha = 1 - confidence_level\n",
    "\n",
    "z_critical = norm.ppf(1 - alpha)\n",
    "\n",
    "print(z_critical)"
   ]
  },
  {
   "cell_type": "code",
   "execution_count": 13,
   "metadata": {},
   "outputs": [],
   "source": [
    "# Defining the sample and population parameters\n",
    "\n",
    "sample_size = 20\n",
    "sample_mean = 4.25\n",
    "pop_mean = 4\n",
    "pop_std = 0.5"
   ]
  },
  {
   "cell_type": "code",
   "execution_count": 14,
   "metadata": {},
   "outputs": [
    {
     "name": "stdout",
     "output_type": "stream",
     "text": [
      "65.96969000988257\n"
     ]
    }
   ],
   "source": [
    "# Calculating the z-score\n",
    "\n",
    "z = z_score(sample_size, sample_mean, pop_mean, pop_std)\n",
    "\n",
    "print(z)"
   ]
  },
  {
   "cell_type": "code",
   "execution_count": 16,
   "metadata": {},
   "outputs": [
    {
     "data": {
      "text/plain": [
       "Text(4.25, 0.1, 'x_bar')"
      ]
     },
     "execution_count": 16,
     "metadata": {},
     "output_type": "execute_result"
    },
    {
     "data": {
      "image/png": "[encoded data removed]",
      "text/plain": [
       "<Figure size 432x288 with 1 Axes>"
      ]
     },
     "metadata": {
      "needs_background": "light"
     },
     "output_type": "display_data"
    }
   ],
   "source": [
    "# Ploting the sampling distribution with rejection regions\n",
    "\n",
    "# Defining the x minimum and x maximum\n",
    "x_min = 3.5\n",
    "x_max = 4.5\n",
    "\n",
    "\n",
    "# Defining the sampling distribution mean and sampling distribution std\n",
    "mean = pop_mean\n",
    "std = pop_std / (sample_size**0.5)\n",
    "\n",
    "\n",
    "# Ploting the graph and setting the x limits\n",
    "x = np.linspace(x_min, x_max, 100)\n",
    "y = norm.pdf(x, mean, std)\n",
    "plt.xlim(x_min, x_max)\n",
    "plt.plot(x, y)\n",
    "\n",
    "\n",
    "# Computing the right critical value (Right tailed Test)\n",
    "z_critical_right = pop_mean + (z_critical * std)\n",
    "\n",
    "\n",
    "# Shading the right rejection region\n",
    "x1 = np.linspace(z_critical_right, x_max, 100)\n",
    "y1 = norm.pdf(x1, mean, std)\n",
    "plt.fill_between(x1, y1, color='orange')\n",
    "\n",
    "\n",
    "# Ploting the sample mean and concluding the results \n",
    "plt.scatter(sample_mean, 0)\n",
    "plt.annotate(\"x_bar\", (sample_mean, 0.1))\n",
    "\n",
    "# In this case sample mean falls in the rejection region\n",
    "# i.e. Reject the Null Hypothesis"
   ]
  },
  {
   "cell_type": "code",
   "execution_count": 17,
   "metadata": {},
   "outputs": [
    {
     "name": "stdout",
     "output_type": "stream",
     "text": [
      "Reject Null Hypothesis\n"
     ]
    }
   ],
   "source": [
    "# Conclusion using z test\n",
    "\n",
    "if(z > z_critical):\n",
    "    print(\"Reject Null Hypothesis\")\n",
    "else:\n",
    "    print(\"Fail to reject Null Hypothesis\")"
   ]
  },
  {
   "cell_type": "code",
   "execution_count": 18,
   "metadata": {},
   "outputs": [
    {
     "name": "stdout",
     "output_type": "stream",
     "text": [
      "p_value =  0.0\n",
      "Reject Null Hypothesis\n"
     ]
    }
   ],
   "source": [
    "# Conclusion using p test\n",
    "\n",
    "p_value = 1.0 - norm.cdf(np.abs(z))\n",
    "\n",
    "print(\"p_value = \", p_value)\n",
    "\n",
    "if(p_value < alpha):\n",
    "    print(\"Reject Null Hypothesis\")\n",
    "else:\n",
    "    print(\"Fail to reject Null Hypothesis\")"
   ]
  },
  {
   "cell_type": "markdown",
   "metadata": {},
   "source": [
    "__Q-3: TATA has developed a better fuel management system for the SUV segment. They claim that with this system, on average the SUV's mileage is at least 15 km/litre? (Given that the population std is 1)__"
   ]
  },
  {
   "cell_type": "markdown",
   "metadata": {},
   "source": [
    "- Step - 1:\n",
    "Alternate Hypothesis (Bold Claim):$$ H_1: \\ Mean > 15$$\n",
    "Null Hypothesis (Status Quo):$$ H_0: \\ Mean \\leq \\ 15 $$\n",
    "\n",
    "- Step - 2:\n",
    "\n",
    "Collect a sample of size n = 10$$ [14.08, 14.13, 15.65, 13.78, 16.26, 14.97, 15.36, 15.81, 14.53, 16.79, 15.78, 16.98, 13.23, 15.43, 15.46, 13.88, 14.31, 14.41, 15.76, 15.38] $$\n",
    "Compute sample mean$$ \\bar{x} \\ = \\ ? $$\n",
    "- Step - 3: Compute Test Statistic:$$ z = \\frac{\\bar{x} - \\mu}{\\sigma/\\sqrt[2]{n}}$$\n",
    "\n",
    "- Step - 4: Decide $ \\alpha $\n",
    "\n",
    "- Step - 5.1: ? tailed z-test:$$ reject \\ H_0 \\ if \\ ? $$\n",
    "\n",
    "- Step - 5.2: Compute p-value"
   ]
  },
  {
   "cell_type": "code",
   "execution_count": 34,
   "metadata": {},
   "outputs": [
    {
     "data": {
      "text/plain": [
       "15.098999999999998"
      ]
     },
     "execution_count": 34,
     "metadata": {},
     "output_type": "execute_result"
    }
   ],
   "source": [
    "sample = [14.08, 14.13, 15.65, 13.78, 16.26, 14.97, 15.36, 15.81, 14.53, 16.79, 15.78, 16.98, 13.23, 15.43, 15.46, 13.88, 14.31, 14.41, 15.76, 15.38]\n",
    "sum(sample)/len(sample)"
   ]
  },
  {
   "cell_type": "code",
   "execution_count": 19,
   "metadata": {},
   "outputs": [
    {
     "name": "stdout",
     "output_type": "stream",
     "text": [
      "1.6448536269514722\n"
     ]
    }
   ],
   "source": [
    "# One Tail\n",
    "\n",
    "confidence_level = 0.95\n",
    "\n",
    "alpha = 1 - confidence_level\n",
    "\n",
    "z_critical = norm.ppf(1 - alpha)\n",
    "\n",
    "print(z_critical)"
   ]
  },
  {
   "cell_type": "code",
   "execution_count": 20,
   "metadata": {},
   "outputs": [],
   "source": [
    "sample_size = 20\n",
    "sample_mean = 15.1\n",
    "pop_mean = 15\n",
    "pop_std = 1"
   ]
  },
  {
   "cell_type": "code",
   "execution_count": 21,
   "metadata": {},
   "outputs": [
    {
     "name": "stdout",
     "output_type": "stream",
     "text": [
      "19.429359227725445\n"
     ]
    }
   ],
   "source": [
    "z = z_score(sample_size, sample_mean, pop_mean, pop_std)\n",
    "\n",
    "print(z)"
   ]
  },
  {
   "cell_type": "code",
   "execution_count": 22,
   "metadata": {
    "scrolled": true
   },
   "outputs": [
    {
     "data": {
      "text/plain": [
       "Text(15.1, 0.1, 'x_bar')"
      ]
     },
     "execution_count": 22,
     "metadata": {},
     "output_type": "execute_result"
    },
    {
     "data": {
      "image/png": "[encoded data removed]",
      "text/plain": [
       "<Figure size 432x288 with 1 Axes>"
      ]
     },
     "metadata": {
      "needs_background": "light"
     },
     "output_type": "display_data"
    }
   ],
   "source": [
    "x_min = 13\n",
    "x_max = 17\n",
    "\n",
    "mean = pop_mean\n",
    "std = pop_std / (sample_size**0.5)\n",
    "\n",
    "x = np.linspace(x_min, x_max, 100)\n",
    "y = norm.pdf(x, mean, std)\n",
    "\n",
    "plt.xlim(x_min, x_max)\n",
    "# plt.ylim(0, 0.03)\n",
    "\n",
    "plt.plot(x, y)\n",
    "\n",
    "z_critical_right = pop_mean + (z_critical * std)\n",
    "\n",
    "x1 = np.linspace(z_critical_right, x_max, 100)\n",
    "y1 = norm.pdf(x1, mean, std)\n",
    "plt.fill_between(x1, y1, color='orange')\n",
    "\n",
    "plt.scatter(sample_mean, 0)\n",
    "plt.annotate(\"x_bar\", (sample_mean, 0.1))\n",
    "\n",
    "# In this case sample mean falls in the acceptance region\n",
    "# i.e. Fail to Reject the Null Hypothesis"
   ]
  },
  {
   "cell_type": "code",
   "execution_count": 23,
   "metadata": {},
   "outputs": [
    {
     "name": "stdout",
     "output_type": "stream",
     "text": [
      "Reject Null Hypothesis\n"
     ]
    }
   ],
   "source": [
    "if(z > z_critical):\n",
    "    print(\"Reject Null Hypothesis\")\n",
    "else:\n",
    "    print(\"Fail to reject Null Hypothesis\")"
   ]
  },
  {
   "cell_type": "code",
   "execution_count": 24,
   "metadata": {},
   "outputs": [
    {
     "name": "stdout",
     "output_type": "stream",
     "text": [
      "p_value =  0.0\n",
      "Reject Null Hypothesis\n"
     ]
    }
   ],
   "source": [
    "p_value = 1.0 - norm.cdf(np.abs(z))\n",
    "\n",
    "print(\"p_value = \", p_value)\n",
    "\n",
    "if(p_value < alpha):\n",
    "    print(\"Reject Null Hypothesis\")\n",
    "else:\n",
    "    print(\"Fail to reject Null Hypothesis\")"
   ]
  },
  {
   "cell_type": "markdown",
   "metadata": {},
   "source": [
    "__Q-4: You have developed a new Machine Learning Application and claim that on average it takes less than 100 ms to predict for any future datapoint. How do you convince your client about this claim? (Based on past data you know that the std is 10 ms)__"
   ]
  },
  {
   "cell_type": "markdown",
   "metadata": {},
   "source": [
    "- Step - 1:\n",
    "Alternate Hypothesis (Bold Claim):$$ H_1: \\ Mean < 100$$\n",
    "Null Hypothesis (Status Quo):$$ H_0: \\ Mean\\geq \\ 100 $$\n",
    "\n",
    "- Step - 2:\n",
    "\n",
    "Collect a sample of size n = 100\n",
    "Compute sample mean$$ \\bar{x} \\ = \\ 97.5 $$\n",
    "- Step - 3: Compute Test Statistic:$$ z = \\frac{\\bar{x} - \\mu}{\\sigma/\\sqrt[2]{n}}$$\n",
    "\n",
    "- Step - 4: Decide $ \\alpha $\n",
    "\n",
    "- Step - 5.1: ? tailed z-test:$$ reject \\ H_0 \\ if \\ ? $$\n",
    "\n",
    "- Step - 5.2: Compute p-value"
   ]
  },
  {
   "cell_type": "code",
   "execution_count": 25,
   "metadata": {},
   "outputs": [
    {
     "name": "stdout",
     "output_type": "stream",
     "text": [
      "2.3263478740408408\n"
     ]
    }
   ],
   "source": [
    "# One Tail\n",
    "\n",
    "alpha = 1 - 0.99\n",
    "\n",
    "z_critical = norm.ppf(1 - alpha)\n",
    "\n",
    "print(z_critical)"
   ]
  },
  {
   "cell_type": "code",
   "execution_count": 26,
   "metadata": {},
   "outputs": [],
   "source": [
    "sample_size = 100\n",
    "sample_mean = 97.5\n",
    "pop_mean = 100\n",
    "pop_std = 10"
   ]
  },
  {
   "cell_type": "code",
   "execution_count": 27,
   "metadata": {},
   "outputs": [
    {
     "name": "stdout",
     "output_type": "stream",
     "text": [
      "0.0\n"
     ]
    }
   ],
   "source": [
    "z = z_score(sample_size, sample_mean, pop_mean, pop_std)\n",
    "\n",
    "print(z)"
   ]
  },
  {
   "cell_type": "code",
   "execution_count": 28,
   "metadata": {
    "scrolled": true
   },
   "outputs": [
    {
     "data": {
      "text/plain": [
       "Text(97.5, 0.02, 'x_bar')"
      ]
     },
     "execution_count": 28,
     "metadata": {},
     "output_type": "execute_result"
    },
    {
     "data": {
      "image/png": "[encoded data removed]",
      "text/plain": [
       "<Figure size 432x288 with 1 Axes>"
      ]
     },
     "metadata": {
      "needs_background": "light"
     },
     "output_type": "display_data"
    }
   ],
   "source": [
    "x_min = 95\n",
    "x_max = 105\n",
    "\n",
    "mean = pop_mean\n",
    "std = pop_std / (sample_size**0.5)\n",
    "\n",
    "x = np.linspace(x_min, x_max, 100)\n",
    "y = norm.pdf(x, mean, std)\n",
    "\n",
    "plt.xlim(x_min, x_max)\n",
    "# plt.ylim(0, 0.03)\n",
    "\n",
    "plt.plot(x, y)\n",
    "\n",
    "z_critical_left = pop_mean + (-z_critical * std)\n",
    "\n",
    "x1 = np.linspace(x_min, z_critical_left, 100)\n",
    "y1 = norm.pdf(x1, mean, std)\n",
    "plt.fill_between(x1, y1, color='orange')\n",
    "\n",
    "plt.scatter(sample_mean, 0)\n",
    "plt.annotate(\"x_bar\", (sample_mean, 0.02))\n",
    "\n",
    "# In this case sample mean falls in the rejection region\n",
    "\n",
    "# i.e. Reject Null Hypothesis"
   ]
  },
  {
   "cell_type": "code",
   "execution_count": 29,
   "metadata": {},
   "outputs": [
    {
     "name": "stdout",
     "output_type": "stream",
     "text": [
      "Fail to reject Null Hypothesis\n"
     ]
    }
   ],
   "source": [
    "if(z < -z_critical):\n",
    "    print(\"Reject Null Hypothesis\")\n",
    "else:\n",
    "    print(\"Fail to reject Null Hypothesis\")"
   ]
  },
  {
   "cell_type": "code",
   "execution_count": 30,
   "metadata": {},
   "outputs": [
    {
     "name": "stdout",
     "output_type": "stream",
     "text": [
      "p_value =  0.5\n",
      "Fail to reject Null Hypothesis\n"
     ]
    }
   ],
   "source": [
    "p_value = 1.0 - norm.cdf(np.abs(z))\n",
    "\n",
    "print(\"p_value = \", p_value)\n",
    "\n",
    "if(p_value < 0.01):\n",
    "    print(\"Reject Null Hypothesis\")\n",
    "else:\n",
    "    print(\"Fail to reject Null Hypothesis\")"
   ]
  }
 ],
 "metadata": {
  "kernelspec": {
   "display_name": "Python 3",
   "language": "python",
   "name": "python3"
  },
  "language_info": {
   "codemirror_mode": {
    "name": "ipython",
    "version": 3
   },
   "file_extension": ".py",
   "mimetype": "text/x-python",
   "name": "python",
   "nbconvert_exporter": "python",
   "pygments_lexer": "ipython3",
   "version": "3.7.4"
  }
 },
 "nbformat": 4,
 "nbformat_minor": 2
}
