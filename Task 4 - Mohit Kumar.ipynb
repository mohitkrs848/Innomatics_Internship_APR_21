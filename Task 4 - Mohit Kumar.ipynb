{
 "cells": [
  {
   "cell_type": "markdown",
   "metadata": {},
   "source": [
    "## Innomatics Internship APR 21\n",
    "### Week 2 - Task - 4 \n",
    "###### AUTHOR : MOHIT KUMAR\n",
    "###### EMAIL : mohitkrs848@gmail.com"
   ]
  },
  {
   "cell_type": "code",
   "execution_count": 12,
   "metadata": {},
   "outputs": [
    {
     "name": "stdout",
     "output_type": "stream",
     "text": [
      "I am Mohit kumar 21\n",
      "i AM mOHIT KUMAR 21\n"
     ]
    }
   ],
   "source": [
    "#Question 1 : sWAP cASE\n",
    "\n",
    "def swap_case(s):\n",
    "    res = s.swapcase()\n",
    "    return res\n",
    "\n",
    "if __name__ == '__main__':\n",
    "    s = input()\n",
    "    result = swap_case(s)\n",
    "    print(result)"
   ]
  },
  {
   "cell_type": "code",
   "execution_count": 13,
   "metadata": {},
   "outputs": [
    {
     "name": "stdout",
     "output_type": "stream",
     "text": [
      "How Are You\n",
      "How-Are-You\n"
     ]
    }
   ],
   "source": [
    "#Question 2 : String Split and Join\n",
    "\n",
    "def split_and_join(line):\n",
    "    line = line.split(\" \")\n",
    "    line = \"-\".join(line)\n",
    "    return line\n",
    "\n",
    "if __name__ == '__main__':\n",
    "    line = input()\n",
    "    result = split_and_join(line)\n",
    "    print(result)"
   ]
  },
  {
   "cell_type": "code",
   "execution_count": 14,
   "metadata": {},
   "outputs": [
    {
     "name": "stdout",
     "output_type": "stream",
     "text": [
      "Mohit\n",
      "Kumar\n",
      "Hello Mohit Kumar! You just delved into python.\n"
     ]
    }
   ],
   "source": [
    "#Question 3 : What's Your Name?\n",
    "\n",
    "def print_full_name(first, last):\n",
    "    print(\"Hello \"+first_name +\" \"+last_name+\"! You just delved into python.\")\n",
    "\n",
    "if __name__ == '__main__':\n",
    "    first_name = input()\n",
    "    last_name = input()\n",
    "    print_full_name(first_name, last_name)"
   ]
  },
  {
   "cell_type": "code",
   "execution_count": 15,
   "metadata": {},
   "outputs": [
    {
     "name": "stdout",
     "output_type": "stream",
     "text": [
      "abracadabra\n",
      "5 k\n",
      "abrackdabra\n"
     ]
    }
   ],
   "source": [
    "#Question 4 : Mutations\n",
    "\n",
    "def mutate_string(string, position, character):\n",
    "    string = string[:position]+character+string[position+1:]\n",
    "    return string\n",
    "\n",
    "if __name__ == '__main__':\n",
    "    s = input()\n",
    "    i, c = input().split()\n",
    "    s_new = mutate_string(s, int(i), c)\n",
    "    print(s_new)"
   ]
  },
  {
   "cell_type": "code",
   "execution_count": 16,
   "metadata": {},
   "outputs": [
    {
     "name": "stdout",
     "output_type": "stream",
     "text": [
      "ABCDCDC\n",
      "CDC\n",
      "2\n"
     ]
    }
   ],
   "source": [
    "#Question 5 : Find a string\n",
    "\n",
    "def count_substring(string, sub_string):\n",
    "    count =0\n",
    "    for i in range(0,len(string)):\n",
    "        if ((string[i:i+len(sub_string)])==sub_string):\n",
    "            count = count+1\n",
    "    return count\n",
    "\n",
    "if __name__ == '__main__':\n",
    "    string = input().strip()\n",
    "    sub_string = input().strip()\n",
    "    \n",
    "    count = count_substring(string, sub_string)\n",
    "    print(count)"
   ]
  },
  {
   "cell_type": "code",
   "execution_count": 1,
   "metadata": {
    "scrolled": true
   },
   "outputs": [
    {
     "name": "stdout",
     "output_type": "stream",
     "text": [
      "qA2\n",
      "True\n",
      "True\n",
      "True\n",
      "True\n",
      "True\n"
     ]
    }
   ],
   "source": [
    "#Question 6 : String Validators\n",
    "\n",
    "if __name__ == '__main__':\n",
    "    s = input()\n",
    "    print(any(i.isalnum() for i in s))\n",
    "    print(any(i.isalpha() for i in s))\n",
    "    print(any(i.isdigit() for i in s))\n",
    "    print(any(i.islower() for i in s))\n",
    "    print(any(i.isupper() for i in s))"
   ]
  },
  {
   "cell_type": "code",
   "execution_count": 4,
   "metadata": {
    "scrolled": true
   },
   "outputs": [
    {
     "name": "stdout",
     "output_type": "stream",
     "text": [
      "7\n",
      "      H      \n",
      "     HHH     \n",
      "    HHHHH    \n",
      "   HHHHHHH   \n",
      "  HHHHHHHHH  \n",
      " HHHHHHHHHHH \n",
      "HHHHHHHHHHHHH\n",
      "   HHHHHHH                     HHHHHHH                  \n",
      "   HHHHHHH                     HHHHHHH                  \n",
      "   HHHHHHH                     HHHHHHH                  \n",
      "   HHHHHHH                     HHHHHHH                  \n",
      "   HHHHHHH                     HHHHHHH                  \n",
      "   HHHHHHH                     HHHHHHH                  \n",
      "   HHHHHHH                     HHHHHHH                  \n",
      "   HHHHHHH                     HHHHHHH                  \n",
      "   HHHHHHHHHHHHHHHHHHHHHHHHHHHHHHHHHHH    \n",
      "   HHHHHHHHHHHHHHHHHHHHHHHHHHHHHHHHHHH    \n",
      "   HHHHHHHHHHHHHHHHHHHHHHHHHHHHHHHHHHH    \n",
      "   HHHHHHHHHHHHHHHHHHHHHHHHHHHHHHHHHHH    \n",
      "   HHHHHHH                     HHHHHHH                  \n",
      "   HHHHHHH                     HHHHHHH                  \n",
      "   HHHHHHH                     HHHHHHH                  \n",
      "   HHHHHHH                     HHHHHHH                  \n",
      "   HHHHHHH                     HHHHHHH                  \n",
      "   HHHHHHH                     HHHHHHH                  \n",
      "   HHHHHHH                     HHHHHHH                  \n",
      "   HHHHHHH                     HHHHHHH                  \n",
      "                            HHHHHHHHHHHHH \n",
      "                             HHHHHHHHHHH  \n",
      "                              HHHHHHHHH   \n",
      "                               HHHHHHH    \n",
      "                                HHHHH     \n",
      "                                 HHH      \n",
      "                                  H       \n"
     ]
    }
   ],
   "source": [
    "#Question 7 : Text Alignment\n",
    "\n",
    "thickness = int(input()) #This must be an odd number\n",
    "c = 'H'\n",
    "\n",
    "#Top Cone\n",
    "for i in range(thickness):\n",
    "    print((c*i).rjust(thickness-1)+c+(c*i).ljust(thickness-1))\n",
    "\n",
    "#Top Pillars\n",
    "for i in range(thickness+1):\n",
    "    print((c*thickness).center(thickness*2)+(c*thickness).center(thickness*6))\n",
    "\n",
    "#Middle Belt\n",
    "for i in range((thickness+1)//2):\n",
    "    print((c*thickness*5).center(thickness*6))    \n",
    "\n",
    "#Bottom Pillars\n",
    "for i in range(thickness+1):\n",
    "    print((c*thickness).center(thickness*2)+(c*thickness).center(thickness*6))    \n",
    "\n",
    "#Bottom Cone\n",
    "for i in range(thickness):\n",
    "    print(((c*(thickness-i-1)).rjust(thickness)+c+(c*(thickness-i-1)).ljust(thickness)).rjust(thickness*6))"
   ]
  },
  {
   "cell_type": "code",
   "execution_count": 5,
   "metadata": {
    "scrolled": true
   },
   "outputs": [
    {
     "name": "stdout",
     "output_type": "stream",
     "text": [
      "ABCDEFGHIJKLMNOPQRSTUVWXYZ\n",
      "5\n",
      "ABCDE\n",
      "FGHIJ\n",
      "KLMNO\n",
      "PQRST\n",
      "UVWXY\n",
      "Z\n"
     ]
    }
   ],
   "source": [
    "#Question 8 : Text Wrap\n",
    "\n",
    "import textwrap\n",
    "\n",
    "def wrap(string, max_width):\n",
    "    return textwrap.fill(string,max_width)\n",
    "\n",
    "if __name__ == '__main__':\n",
    "    string, max_width = input(), int(input())\n",
    "    result = wrap(string, max_width)\n",
    "    print(result)"
   ]
  },
  {
   "cell_type": "code",
   "execution_count": 8,
   "metadata": {
    "scrolled": true
   },
   "outputs": [
    {
     "name": "stdout",
     "output_type": "stream",
     "text": [
      "10 30\n",
      "-------------.|.--------------\n",
      "----------.|..|..|.-----------\n",
      "-------.|..|..|..|..|.--------\n",
      "----.|..|..|..|..|..|..|.-----\n",
      "-.|..|..|..|..|..|..|..|..|.--\n",
      "-----------WELCOME------------\n",
      "---.|..|..|..|..|..|..|..|.---\n",
      "------.|..|..|..|..|..|.------\n",
      "---------.|..|..|..|.---------\n",
      "------------.|..|.------------\n",
      "------------------------------\n"
     ]
    }
   ],
   "source": [
    "#Question 9 : Designer Door Mat\n",
    "\n",
    "N, M = map(int,input().split())\n",
    "for i in range(1,N,2): \n",
    "    print((i * \".|.\").center(M, \"-\"))\n",
    "print(\"WELCOME\".center(M,\"-\"))\n",
    "for i in range(N-2,-1,-2): \n",
    "    print((i * \".|.\").center(M, \"-\"))"
   ]
  },
  {
   "cell_type": "code",
   "execution_count": 10,
   "metadata": {
    "scrolled": true
   },
   "outputs": [
    {
     "name": "stdout",
     "output_type": "stream",
     "text": [
      "12\n",
      "   1    1    1    1\n",
      "   2    2    2   10\n",
      "   3    3    3   11\n",
      "   4    4    4  100\n",
      "   5    5    5  101\n",
      "   6    6    6  110\n",
      "   7    7    7  111\n",
      "   8   10    8 1000\n",
      "   9   11    9 1001\n",
      "  10   12    A 1010\n",
      "  11   13    B 1011\n",
      "  12   14    C 1100\n"
     ]
    }
   ],
   "source": [
    "#Question 10 : String Formatting\n",
    "\n",
    "def print_formatted(number):\n",
    "    for i in range(1,number+1):\n",
    "        l=len('{0:b}'.format(number))\n",
    "        l=int(l)\n",
    "        print('{0:{width}d} {0:{width}o} {0:{width}X} {0:{width}b}'.format(i,width=l))\n",
    "\n",
    "if __name__ == '__main__':\n",
    "    n = int(input())\n",
    "    print_formatted(n)"
   ]
  },
  {
   "cell_type": "code",
   "execution_count": 11,
   "metadata": {},
   "outputs": [
    {
     "name": "stdout",
     "output_type": "stream",
     "text": [
      "5\n",
      "--------e--------\n",
      "------e-d-e------\n",
      "----e-d-c-d-e----\n",
      "--e-d-c-b-c-d-e--\n",
      "e-d-c-b-a-b-c-d-e\n",
      "--e-d-c-b-c-d-e--\n",
      "----e-d-c-d-e----\n",
      "------e-d-e------\n",
      "--------e--------\n"
     ]
    }
   ],
   "source": [
    "#Question 11 : Alphabet Rangoli\n",
    "\n",
    "def print_rangoli(size):\n",
    "    for i in range(size-1,-1,-1):\n",
    "        for j in range(i):\n",
    "            print(end=\"--\")\n",
    "        for j in range(size-1,i,-1):\n",
    "            print(chr(j+97),end=\"-\")\n",
    "        for j in range(i,size):\n",
    "            if j != size-1:\n",
    "                print(chr(j+97),end=\"-\")\n",
    "            else:\n",
    "                print(chr(j+97),end=\"\")\n",
    "        for j in range(2*i):\n",
    "            print(end=\"-\")\n",
    "        print()\n",
    "    for i in range(1,size):\n",
    "        for j in range(i):\n",
    "            print(end=\"--\")\n",
    "        for j in range(size-1,i,-1):\n",
    "            print(chr(j+97),end=\"-\")\n",
    "        for j in range(i,size):\n",
    "            if j != size-1:\n",
    "                print(chr(j+97),end=\"-\")\n",
    "            else:\n",
    "                print(chr(j+97),end=\"\")\n",
    "        for j in range(2*i):\n",
    "            print(end=\"-\")\n",
    "        print()\n",
    "\n",
    "if __name__ == '__main__':\n",
    "    n = int(input())\n",
    "    print_rangoli(n)"
   ]
  },
  {
   "cell_type": "code",
   "execution_count": 16,
   "metadata": {},
   "outputs": [
    {
     "name": "stdout",
     "output_type": "stream",
     "text": [
      "hey there my name is 12mohit\n",
      "Hey There My Name Is 12mohit\n"
     ]
    }
   ],
   "source": [
    "#Question 11 : Capitalize!\n",
    "\n",
    "import math\n",
    "import os\n",
    "import random\n",
    "import re\n",
    "import sys\n",
    "\n",
    "# Complete the solve function below.\n",
    "def solve(s):\n",
    "    a=[]\n",
    "    for i in s.split(' '):\n",
    "        a.append(i.capitalize())\n",
    "    return ' '.join(a)\n",
    "\n",
    "if __name__ == '__main__':\n",
    "    s = input()\n",
    "    result = solve(s)\n",
    "    print(result)"
   ]
  },
  {
   "cell_type": "code",
   "execution_count": 17,
   "metadata": {},
   "outputs": [
    {
     "name": "stdout",
     "output_type": "stream",
     "text": [
      "BANANA\n",
      "Stuart 12\n"
     ]
    }
   ],
   "source": [
    "#Question 12 : The Minion Game\n",
    "\n",
    "def minion_game(string):\n",
    "    # your code goes here\n",
    "    stuart=0\n",
    "    kevin=0\n",
    "    for i in range(len(string)):\n",
    "        if string[i] in \"AEIOU\":\n",
    "            kevin=kevin+len(string)-i\n",
    "        else:\n",
    "            stuart=stuart+len(string)-i\n",
    "    if stuart==kevin:\n",
    "        print(\"Draw\")\n",
    "    elif stuart>kevin:\n",
    "        print(f\"Stuart {stuart}\")\n",
    "    else:\n",
    "        print(f\"Kevin {kevin}\")\n",
    "if __name__ == '__main__':\n",
    "    s = input()\n",
    "    minion_game(s)"
   ]
  },
  {
   "cell_type": "code",
   "execution_count": 18,
   "metadata": {},
   "outputs": [
    {
     "name": "stdout",
     "output_type": "stream",
     "text": [
      "AABCAAADA\n",
      "3\n",
      "AB\n",
      "CA\n",
      "AD\n"
     ]
    }
   ],
   "source": [
    "#Question 13 : Merge the Tools!\n",
    "\n",
    "import textwrap\n",
    "def merge_the_tools(string, k):\n",
    "    for i in range(0, len(string), k):\n",
    "        t = string[i:i+k]\n",
    "        u = ''\n",
    "        for i in t:\n",
    "            if i not in u:\n",
    "                u += i;\n",
    "        print(u)\n",
    "        \n",
    "if __name__ == '__main__':\n",
    "    string, k = input(), int(input())\n",
    "    merge_the_tools(string, k)"
   ]
  }
 ],
 "metadata": {
  "kernelspec": {
   "display_name": "Python 3",
   "language": "python",
   "name": "python3"
  },
  "language_info": {
   "codemirror_mode": {
    "name": "ipython",
    "version": 3
   },
   "file_extension": ".py",
   "mimetype": "text/x-python",
   "name": "python",
   "nbconvert_exporter": "python",
   "pygments_lexer": "ipython3",
   "version": "3.7.4"
  }
 },
 "nbformat": 4,
 "nbformat_minor": 2
}
