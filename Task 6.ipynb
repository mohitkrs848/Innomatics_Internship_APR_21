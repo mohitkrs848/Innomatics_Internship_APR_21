{
 "cells": [
  {
   "cell_type": "markdown",
   "metadata": {},
   "source": [
    "## Innomatics Internship APR 21\n",
    "### Week 4 - Task - 6\n",
    "###### AUTHOR : MOHIT KUMAR\n",
    "###### EMAIL : mohitkrs848@gmail.com"
   ]
  },
  {
   "cell_type": "code",
   "execution_count": 17,
   "metadata": {},
   "outputs": [
    {
     "name": "stdout",
     "output_type": "stream",
     "text": [
      "1 2 3 4 -8 -10\n",
      "[-10.  -8.   4.   3.   2.   1.]\n"
     ]
    }
   ],
   "source": [
    "#Question 1 : Arrays\n",
    "\n",
    "import numpy\n",
    "\n",
    "def arrays(arr):\n",
    "    a = numpy.array(arr,float)\n",
    "    return numpy.flip(a)\n",
    "\n",
    "arr = input().strip().split(' ')\n",
    "result = arrays(arr)\n",
    "print(result)"
   ]
  },
  {
   "cell_type": "code",
   "execution_count": 18,
   "metadata": {},
   "outputs": [
    {
     "name": "stdout",
     "output_type": "stream",
     "text": [
      "1 2 3 4 5 6 7 8 9\n",
      "[[1 2 3]\n",
      " [4 5 6]\n",
      " [7 8 9]]\n"
     ]
    }
   ],
   "source": [
    "#Question 2 : Shape and Reshape\n",
    "\n",
    "import numpy\n",
    "arr= input().split(' ')\n",
    "np_arr= numpy.array(arr,int)\n",
    "print(numpy.reshape(np_arr,(3,3)))"
   ]
  },
  {
   "cell_type": "code",
   "execution_count": 3,
   "metadata": {},
   "outputs": [
    {
     "name": "stdout",
     "output_type": "stream",
     "text": [
      "2 2\n",
      "1 2\n",
      "3 4\n",
      "[[1 3]\n",
      " [2 4]]\n",
      "[1 2 3 4]\n"
     ]
    }
   ],
   "source": [
    "#Question 3 : Transpose and Flatten\n",
    "\n",
    "import numpy\n",
    "\n",
    "N, M = map(int,input().split())\n",
    "ele = numpy.array([input().strip().split() for i in range(N)], int)\n",
    "\n",
    "print(ele.transpose())\n",
    "print(ele.flatten())"
   ]
  },
  {
   "cell_type": "code",
   "execution_count": 5,
   "metadata": {},
   "outputs": [
    {
     "name": "stdout",
     "output_type": "stream",
     "text": [
      "4 3 2\n",
      "1 2 \n",
      "1 2\n",
      "1 2\n",
      "1 2\n",
      "3 4\n",
      "3 4\n",
      "3 4\n",
      "[[1 2]\n",
      " [1 2]\n",
      " [1 2]\n",
      " [1 2]\n",
      " [3 4]\n",
      " [3 4]\n",
      " [3 4]]\n"
     ]
    }
   ],
   "source": [
    "### Question 4 : Concatenate\n",
    "\n",
    "import numpy\n",
    "\n",
    "N,M,P = map(int,input().split())\n",
    "arr1 = numpy.array([input().split() for i in range(N)],int)\n",
    "arr2 = numpy.array([input().split() for i in range(M)],int)\n",
    "\n",
    "print(numpy.concatenate((arr1,arr2), axis = 0))"
   ]
  },
  {
   "cell_type": "code",
   "execution_count": 6,
   "metadata": {},
   "outputs": [
    {
     "name": "stdout",
     "output_type": "stream",
     "text": [
      "3 3 3\n",
      "[[[0 0 0]\n",
      "  [0 0 0]\n",
      "  [0 0 0]]\n",
      "\n",
      " [[0 0 0]\n",
      "  [0 0 0]\n",
      "  [0 0 0]]\n",
      "\n",
      " [[0 0 0]\n",
      "  [0 0 0]\n",
      "  [0 0 0]]]\n",
      "[[[1 1 1]\n",
      "  [1 1 1]\n",
      "  [1 1 1]]\n",
      "\n",
      " [[1 1 1]\n",
      "  [1 1 1]\n",
      "  [1 1 1]]\n",
      "\n",
      " [[1 1 1]\n",
      "  [1 1 1]\n",
      "  [1 1 1]]]\n"
     ]
    }
   ],
   "source": [
    "#Question 5 : Zeros and Ones\n",
    "\n",
    "import numpy\n",
    "\n",
    "N = list(map(int,input().split()))\n",
    "print(numpy.zeros(N,int))\n",
    "print(numpy.ones(N,int))"
   ]
  },
  {
   "cell_type": "code",
   "execution_count": 7,
   "metadata": {
    "scrolled": true
   },
   "outputs": [
    {
     "name": "stdout",
     "output_type": "stream",
     "text": [
      "3 3\n",
      "[[ 1.  0.  0.]\n",
      " [ 0.  1.  0.]\n",
      " [ 0.  0.  1.]]\n"
     ]
    }
   ],
   "source": [
    "#Question 6 : Eye and Identity\n",
    "\n",
    "import numpy\n",
    "numpy.set_printoptions(legacy='1.13')\n",
    "\n",
    "N, M = map(int,input().split())\n",
    "print(numpy.eye(N, M, k = 0))"
   ]
  },
  {
   "cell_type": "code",
   "execution_count": 8,
   "metadata": {
    "scrolled": true
   },
   "outputs": [
    {
     "name": "stdout",
     "output_type": "stream",
     "text": [
      "1 4\n",
      "1 2 3 4\n",
      "5 6 7 8\n",
      "[[ 6  8 10 12]]\n",
      "[[-4 -4 -4 -4]]\n",
      "[[ 5 12 21 32]]\n",
      "[[0 0 0 0]]\n",
      "[[1 2 3 4]]\n",
      "[[    1    64  2187 65536]]\n"
     ]
    }
   ],
   "source": [
    "#Question 7 : Array Mathematics\n",
    "\n",
    "import numpy\n",
    "import numpy\n",
    "\n",
    "N,M=map(int,input().split())\n",
    "\n",
    "A=numpy.array([list(map(int,input().split())) for n in range(N)])\n",
    "B=numpy.array([list(map(int,input().split())) for n in range(N)])\n",
    "\n",
    "print(numpy.add(A,B))\n",
    "print(numpy.subtract(A,B))\n",
    "print(numpy.multiply(A,B))\n",
    "m=A/B\n",
    "print(numpy.int_(m))\n",
    "print(numpy.mod(A,B))\n",
    "print(numpy.power(A,B))"
   ]
  },
  {
   "cell_type": "code",
   "execution_count": 9,
   "metadata": {
    "scrolled": true
   },
   "outputs": [
    {
     "name": "stdout",
     "output_type": "stream",
     "text": [
      "1.1 2.2 3.3 4.4 5.5 6.6 7.7 8.8 9.9\n",
      "[ 1.  2.  3.  4.  5.  6.  7.  8.  9.]\n",
      "[  2.   3.   4.   5.   6.   7.   8.   9.  10.]\n",
      "[  1.   2.   3.   4.   6.   7.   8.   9.  10.]\n"
     ]
    }
   ],
   "source": [
    "#Question 8 : Floor, Ceil and Rint\n",
    "\n",
    "import numpy\n",
    "numpy.set_printoptions(legacy = '1.13')\n",
    "\n",
    "A = numpy.array(input().split(),float)\n",
    "\n",
    "print(numpy.floor(A))\n",
    "print(numpy.ceil(A))\n",
    "print(numpy.rint(A))"
   ]
  },
  {
   "cell_type": "code",
   "execution_count": 10,
   "metadata": {
    "scrolled": true
   },
   "outputs": [
    {
     "name": "stdout",
     "output_type": "stream",
     "text": [
      "2 2\n",
      "1 2\n",
      "3 4\n",
      "24\n"
     ]
    }
   ],
   "source": [
    "#Question 9 : Sum and Prod\n",
    "\n",
    "import numpy\n",
    "\n",
    "N,M = map(int,input().split())\n",
    "A = numpy.array([input().split() for i in range(N)], int)\n",
    "print(numpy.prod(numpy.sum(A, axis = 0)))"
   ]
  },
  {
   "cell_type": "code",
   "execution_count": 11,
   "metadata": {
    "scrolled": true
   },
   "outputs": [
    {
     "name": "stdout",
     "output_type": "stream",
     "text": [
      "4 2\n",
      "2 5\n",
      "3 7\n",
      "1 3\n",
      "4 0\n",
      "3\n"
     ]
    }
   ],
   "source": [
    "#Question 10 : Min and Max\n",
    "\n",
    "import numpy\n",
    "\n",
    "N, M = map(int, input().split())\n",
    "arr = numpy.array([input().split() for i in range(N)],int)\n",
    "print(numpy.max(numpy.min(arr,axis=1)))\n"
   ]
  },
  {
   "cell_type": "code",
   "execution_count": 12,
   "metadata": {},
   "outputs": [
    {
     "name": "stdout",
     "output_type": "stream",
     "text": [
      "2 2\n",
      "1 2\n",
      "3 4\n",
      "[ 1.5  3.5]\n",
      "[ 1.  1.]\n",
      "1.11803398875\n"
     ]
    }
   ],
   "source": [
    "#Question 11 : Mean, Var, and Std\n",
    "\n",
    "import numpy\n",
    "\n",
    "N, M = map(int,input().split())\n",
    "my_array = numpy.array([input().split() for i in range(N)],int)\n",
    "\n",
    "print(numpy.mean(my_array, axis = 1))\n",
    "print(numpy.var(my_array, axis = 0))\n",
    "print(round(numpy.std(my_array,axis=None),11))"
   ]
  },
  {
   "cell_type": "code",
   "execution_count": 13,
   "metadata": {},
   "outputs": [
    {
     "name": "stdout",
     "output_type": "stream",
     "text": [
      "2\n",
      "1 2\n",
      "3 4\n",
      "1 2\n",
      "3 4\n",
      "[[ 7 10]\n",
      " [15 22]]\n"
     ]
    }
   ],
   "source": [
    "#Question 12 : Dot and Cross\n",
    "\n",
    "import numpy\n",
    "\n",
    "N = int(input())\n",
    "A = numpy.array([input().split() for i in range(N)],int)\n",
    "B = numpy.array([input().split() for i in range(N)],int)\n",
    "\n",
    "print(numpy.dot(A,B))"
   ]
  },
  {
   "cell_type": "code",
   "execution_count": 14,
   "metadata": {},
   "outputs": [
    {
     "name": "stdout",
     "output_type": "stream",
     "text": [
      "0 1\n",
      "2 3\n",
      "3\n",
      "[[0 0]\n",
      " [2 3]]\n"
     ]
    }
   ],
   "source": [
    "#Question 13 : Inner and Outer\n",
    "\n",
    "import numpy\n",
    "\n",
    "A = numpy.array(input().split(), int)\n",
    "B = numpy.array(input().split(), int)\n",
    "\n",
    "print(numpy.inner(A, B))\n",
    "print(numpy.outer(A, B))"
   ]
  },
  {
   "cell_type": "code",
   "execution_count": 15,
   "metadata": {},
   "outputs": [
    {
     "name": "stdout",
     "output_type": "stream",
     "text": [
      "1.1 2 3\n",
      "0\n",
      "3.0\n"
     ]
    }
   ],
   "source": [
    "#Question 14 : Polynomials\n",
    "\n",
    "import numpy\n",
    "\n",
    "p = numpy.array(input().split(),float)\n",
    "x = int(input())\n",
    "\n",
    "print(numpy.polyval(p,x))"
   ]
  },
  {
   "cell_type": "code",
   "execution_count": 16,
   "metadata": {},
   "outputs": [
    {
     "name": "stdout",
     "output_type": "stream",
     "text": [
      "2\n",
      "1.1 1.1\n",
      "1.1 1.1\n",
      "0.0\n"
     ]
    }
   ],
   "source": [
    "#Question 15 : Linear Algebra\n",
    "\n",
    "import numpy\n",
    "\n",
    "N = int(input())\n",
    "A = numpy.array([input().split() for i in range(N)],float)\n",
    "\n",
    "print(round(numpy.linalg.det(A),2))"
   ]
  }
 ],
 "metadata": {
  "kernelspec": {
   "display_name": "Python 3",
   "language": "python",
   "name": "python3"
  },
  "language_info": {
   "codemirror_mode": {
    "name": "ipython",
    "version": 3
   },
   "file_extension": ".py",
   "mimetype": "text/x-python",
   "name": "python",
   "nbconvert_exporter": "python",
   "pygments_lexer": "ipython3",
   "version": "3.7.4"
  }
 },
 "nbformat": 4,
 "nbformat_minor": 2
}
