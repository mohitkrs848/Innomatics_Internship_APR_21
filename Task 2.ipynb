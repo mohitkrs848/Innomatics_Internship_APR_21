{
 "cells": [
  {
   "cell_type": "markdown",
   "metadata": {},
   "source": [
    "## Innomatics Internship APR 21\n",
    "### Task -2\n",
    "###### AUTHOR : MOHIT KUMAR\n",
    "###### EMAIL : mohitkrs848@gmail.com"
   ]
  },
  {
   "cell_type": "code",
   "execution_count": 1,
   "metadata": {},
   "outputs": [
    {
     "name": "stdout",
     "output_type": "stream",
     "text": [
      "3\n",
      "1\n",
      "3\n",
      "2\n",
      "[[0, 0, 0], [0, 0, 1], [0, 0, 3], [0, 1, 0], [0, 1, 2], [0, 1, 3], [1, 0, 0], [1, 0, 2], [1, 0, 3], [1, 1, 1], [1, 1, 2], [1, 1, 3], [2, 0, 1], [2, 0, 2], [2, 0, 3], [2, 1, 0], [2, 1, 1], [2, 1, 2], [2, 1, 3], [3, 0, 0], [3, 0, 1], [3, 0, 2], [3, 0, 3], [3, 1, 0], [3, 1, 1], [3, 1, 2], [3, 1, 3]]\n"
     ]
    }
   ],
   "source": [
    "#Question 1 : List Comprehensions\n",
    "\n",
    "if __name__ == '__main__':\n",
    "    x = int(input())\n",
    "    y = int(input())\n",
    "    z = int(input())\n",
    "    n = int(input())\n",
    "    \n",
    "li = [[i,j,k] for i in range(x+1) for j in range(y+1) for k in range(z+1) if ((i+j+k)!= n)]\n",
    "print(li)\n"
   ]
  },
  {
   "cell_type": "code",
   "execution_count": 3,
   "metadata": {},
   "outputs": [
    {
     "name": "stdout",
     "output_type": "stream",
     "text": [
      "5\n",
      "2 3 6 6 5\n",
      "5\n"
     ]
    }
   ],
   "source": [
    "# Question 2 : Find the Runner-Up Score!\n",
    "\n",
    "if __name__ == '__main__':\n",
    "    n = int(input())\n",
    "    arr = map(int, input().split())\n",
    "    \n",
    "print(sorted(list(set(arr)))[-2])"
   ]
  },
  {
   "cell_type": "code",
   "execution_count": 4,
   "metadata": {},
   "outputs": [
    {
     "name": "stdout",
     "output_type": "stream",
     "text": [
      "5\n",
      "A\n",
      "37\n",
      "B\n",
      "37\n",
      "C\n",
      "41\n",
      "D\n",
      "37\n",
      "H\n",
      "39\n",
      "H\n"
     ]
    }
   ],
   "source": [
    "# Question 3 : Nested Lists\n",
    "\n",
    "records =[]\n",
    "scores = []\n",
    "\n",
    "if __name__ == '__main__':\n",
    "    for _ in range(int(input())):\n",
    "        name = input()\n",
    "        score = float(input())\n",
    "        records.append([name,score])\n",
    "        scores.append(score)\n",
    "        \n",
    "    li=sorted(list(set(scores)))[1] \n",
    "    for i,j in sorted(records):\n",
    "        if j==li:\n",
    "            print(i)"
   ]
  },
  {
   "cell_type": "code",
   "execution_count": 7,
   "metadata": {},
   "outputs": [
    {
     "name": "stdout",
     "output_type": "stream",
     "text": [
      "3\n",
      "a 12 23 56\n",
      "b 34 32 56 \n",
      "c 45 3 34\n",
      "b\n",
      "40.67\n"
     ]
    }
   ],
   "source": [
    "# Question 4 : Finding the percentage\n",
    "\n",
    "if __name__ == '__main__':\n",
    "    n = int(input())\n",
    "    student_marks = {}\n",
    "    for _ in range(n):\n",
    "        line = input().split()\n",
    "        name, scores = line[0], line[1:]\n",
    "        scores = map(float, scores)\n",
    "        student_marks[name] = scores\n",
    "    query_name = input()\n",
    "    total_marks=0\n",
    "    for i in student_marks[query_name]:\n",
    "        total_marks=total_marks+i\n",
    "    avg=total_marks/3\n",
    "    print(\"%.2f\"%avg)"
   ]
  },
  {
   "cell_type": "code",
   "execution_count": 9,
   "metadata": {},
   "outputs": [
    {
     "name": "stdout",
     "output_type": "stream",
     "text": [
      "8\n",
      "insert 0 3\n",
      "insert 1 5\n",
      "remove 5\n",
      "append 6\n",
      "insert 3 8\n",
      "reverse\n",
      "pop\n",
      "print\n",
      "[8, 6]\n"
     ]
    }
   ],
   "source": [
    "#Question 5 : Lists\n",
    "\n",
    "if __name__ == '__main__':\n",
    "    N = int(input())\n",
    "li = []\n",
    "for i in range(N):\n",
    "    cmd=list(input().split())\n",
    "    \n",
    "    if cmd[0]=='insert':\n",
    "        li.insert(int(cmd[1]),int(cmd[2]))\n",
    "    elif cmd[0]== 'print':\n",
    "        print(li)\n",
    "    elif cmd[0]==\"remove\":\n",
    "        li.remove(int(cmd[1]))\n",
    "    elif cmd[0]==\"append\":\n",
    "        li.append(int(cmd[1]))\n",
    "    elif cmd[0]==\"sort\":\n",
    "        li.sort()\n",
    "    elif cmd[0]==\"pop\":\n",
    "        li.pop()\n",
    "    elif cmd[0]==\"reverse\":\n",
    "        li.reverse()"
   ]
  },
  {
   "cell_type": "code",
   "execution_count": 10,
   "metadata": {},
   "outputs": [
    {
     "name": "stdout",
     "output_type": "stream",
     "text": [
      "3\n",
      "1 2 3\n",
      "2528502973977326415\n"
     ]
    }
   ],
   "source": [
    "#Question 6 : Tuples\n",
    "\n",
    "if __name__ == '__main__':\n",
    "    n = int(input())\n",
    "    integer_list = map(int, input().split())\n",
    "\n",
    "t = tuple(integer_list)\n",
    "print(hash(t))"
   ]
  },
  {
   "cell_type": "code",
   "execution_count": 12,
   "metadata": {},
   "outputs": [
    {
     "name": "stdout",
     "output_type": "stream",
     "text": [
      "5\n",
      "12 34 56 85 34\n",
      "46.75\n"
     ]
    }
   ],
   "source": [
    "#Question 7 : Introduction to Sets\n",
    "\n",
    "def average(array):\n",
    "    avg=sum(set(arr))/len(set(arr))\n",
    "    return avg\n",
    "\n",
    "if __name__ == '__main__':\n",
    "    n = int(input())\n",
    "    arr = list(map(int, input().split()))\n",
    "    result = average(arr)\n",
    "    print(result)"
   ]
  },
  {
   "cell_type": "code",
   "execution_count": 13,
   "metadata": {},
   "outputs": [
    {
     "name": "stdout",
     "output_type": "stream",
     "text": [
      "3 2\n",
      "1 5 3\n",
      "3 1\n",
      "5 7\n",
      "1\n",
      "0\n",
      "1\n"
     ]
    }
   ],
   "source": [
    "#Question 8 : No Idea!\n",
    "\n",
    "list(map(int,input().strip().split()))\n",
    "arr = list(map(int,input().strip().split()))\n",
    "a = set(map(int,input().strip().split()))\n",
    "b = set(map(int,input().strip().split()))\n",
    "points = 0\n",
    "for i in arr:\n",
    "    if i in a:\n",
    "        points = points + 1\n",
    "    elif i in b :\n",
    "        points = points - 1\n",
    "    print(points)"
   ]
  },
  {
   "cell_type": "code",
   "execution_count": 14,
   "metadata": {},
   "outputs": [
    {
     "name": "stdout",
     "output_type": "stream",
     "text": [
      "4\n",
      "1 4 5 9\n",
      "4 \n",
      "2 4 6 11\n",
      "1\n",
      "2\n",
      "5\n",
      "6\n",
      "9\n",
      "11\n"
     ]
    }
   ],
   "source": [
    "# Question 9 : Symmetric Difference\n",
    "\n",
    "m = int(input().strip())\n",
    "m_set = set(map(int, input().strip().split()))\n",
    "    \n",
    "n = int(input().strip())\n",
    "n_set = set(map(int, input().strip().split()))\n",
    "    \n",
    "for i in sorted(m_set ^ n_set):\n",
    "    print(i)"
   ]
  },
  {
   "cell_type": "code",
   "execution_count": 15,
   "metadata": {},
   "outputs": [
    {
     "name": "stdout",
     "output_type": "stream",
     "text": [
      "5\n",
      "UK\n",
      "India\n",
      "USA\n",
      "UK\n",
      "China\n",
      "4\n"
     ]
    }
   ],
   "source": [
    "#Question 10 : Set .add()\n",
    "\n",
    "N = int(input())\n",
    "names = set()\n",
    "for i in range(N):\n",
    "    names.add(input())\n",
    "print(len(names))"
   ]
  },
  {
   "cell_type": "code",
   "execution_count": 18,
   "metadata": {},
   "outputs": [
    {
     "name": "stdout",
     "output_type": "stream",
     "text": [
      "9\n",
      "1 2 3 4 5 6 7 8 9\n",
      "10\n",
      "pop\n",
      "remove 9\n",
      "discard 9 \n",
      "discard 9\n",
      "remove 7\n",
      "pop \n",
      "discard 7\n",
      "pop\n",
      "discard 8 \n",
      "remove 5\n",
      "10\n"
     ]
    }
   ],
   "source": [
    "#Question 11 : Set .discard(), .remove() & .pop()\n",
    "\n",
    "n = int(input())\n",
    "s = set(map(int, input().split()))\n",
    "N = int(input())\n",
    "for i in range(N):\n",
    "    a = list(input().strip().split())\n",
    "\n",
    "    if a[0] == 'remove':\n",
    "        s.remove(int(a[1]))\n",
    "    elif a[0] == 'discard':\n",
    "        s.discard(int(a[1]))\n",
    "    else:\n",
    "        s.pop()\n",
    "\n",
    "print(sum(s))"
   ]
  },
  {
   "cell_type": "code",
   "execution_count": 19,
   "metadata": {},
   "outputs": [
    {
     "name": "stdout",
     "output_type": "stream",
     "text": [
      "4\n",
      "1 4 6 8 \n",
      "3\n",
      "1 4 7\n",
      "5\n"
     ]
    }
   ],
   "source": [
    "#Question 12 : Set .union() Operation\n",
    "\n",
    "n = int(input())\n",
    "eng = set(input().split())\n",
    "\n",
    "b = int(input())\n",
    "french = set(input().split())\n",
    "\n",
    "print(len(eng | french))"
   ]
  },
  {
   "cell_type": "code",
   "execution_count": 21,
   "metadata": {},
   "outputs": [
    {
     "name": "stdout",
     "output_type": "stream",
     "text": [
      "4\n",
      "1 5 8 4\n",
      "3 \n",
      "4 3 2\n",
      "1\n"
     ]
    }
   ],
   "source": [
    "## Question 13 : Set .intersection() Operation\n",
    "\n",
    "n = int(input())\n",
    "eng = set(input().split())\n",
    "\n",
    "b = int(input())\n",
    "french = set(input().split())\n",
    "\n",
    "print(len(eng & french))"
   ]
  },
  {
   "cell_type": "code",
   "execution_count": 22,
   "metadata": {},
   "outputs": [
    {
     "name": "stdout",
     "output_type": "stream",
     "text": [
      "3\n",
      "1 4 2\n",
      "2 \n",
      "6 7\n",
      "3\n"
     ]
    }
   ],
   "source": [
    "#Question 14 : Set .difference() Operation\n",
    "\n",
    "n = int(input())\n",
    "eng = set(input().split())\n",
    "\n",
    "b = int(input())\n",
    "french = set(input().split())\n",
    "\n",
    "print(len(eng-french))"
   ]
  },
  {
   "cell_type": "code",
   "execution_count": 23,
   "metadata": {},
   "outputs": [
    {
     "name": "stdout",
     "output_type": "stream",
     "text": [
      "3\n",
      "1 5 3\n",
      "4\n",
      "4 3 2 8\n",
      "5\n"
     ]
    }
   ],
   "source": [
    "#Question 15 : Set .symmetric_difference() Operation\n",
    "\n",
    "n = int(input())\n",
    "eng = set(input().split())\n",
    "\n",
    "b = int(input())\n",
    "french = set(input().split())\n",
    "\n",
    "print(len(eng ^ french))"
   ]
  },
  {
   "cell_type": "code",
   "execution_count": 24,
   "metadata": {},
   "outputs": [
    {
     "name": "stdout",
     "output_type": "stream",
     "text": [
      "12\n",
      "1 2 3 4 5 6 7 8 9 10 11 12\n",
      "4\n",
      "intersection_update 10\n",
      "2 3 4 5 6 7 8 9 0 1\n",
      "symmetric_difference_update 5\n",
      "22 4 34 67 2\n",
      "difference_update 3\n",
      "23 56 5\n",
      "update 2\n",
      "45 32\n",
      "234\n"
     ]
    }
   ],
   "source": [
    "#Question 16 : Set Mutations\n",
    "\n",
    "A = int(input())\n",
    "A_list = set(map(int, input().split()))\n",
    "\n",
    "N = int(input())\n",
    "for i in range(N):\n",
    "    opr, _ = input().split(' ')\n",
    "    b =set(map(int, input().split()))\n",
    "    if opr == \"update\":\n",
    "        A_list |= b\n",
    "    elif opr == \"intersection_update\":\n",
    "        A_list &= b\n",
    "    elif opr == \"difference_update\":\n",
    "        A_list -= b\n",
    "    elif opr == \"symmetric_difference_update\":\n",
    "        A_list ^= b\n",
    "\n",
    "print(sum(A_list))"
   ]
  },
  {
   "cell_type": "code",
   "execution_count": 25,
   "metadata": {},
   "outputs": [
    {
     "name": "stdout",
     "output_type": "stream",
     "text": [
      "5\n",
      "1 2 3 6 5 4 4 2 5 3 6 1 6 5 3 2 4 1 2 5 1 4 3 6 8 4 3 1 5 6 2 \n",
      "8\n"
     ]
    }
   ],
   "source": [
    "#Question 17 : The Captain's Room\n",
    "\n",
    "K = int(input())\n",
    "rooms = map(int, input().split())\n",
    "rooms = sorted(rooms)\n",
    "\n",
    "for i in range(len(rooms)):\n",
    "    if(i != (len(rooms)-1)):\n",
    "        if(rooms[i]!=rooms[i-1] and rooms[i]!=rooms[i+1]):\n",
    "            print(rooms[i])\n",
    "            break;\n",
    "    else:\n",
    "        print(rooms[i])\n"
   ]
  },
  {
   "cell_type": "code",
   "execution_count": 26,
   "metadata": {},
   "outputs": [
    {
     "name": "stdout",
     "output_type": "stream",
     "text": [
      "3\n",
      "5\n",
      "1 2 3 4 5\n",
      "6\n",
      "1 2 4 6 8 3 \n",
      "False\n",
      "1 \n",
      "2\n",
      "3\n",
      "2 3 5\n",
      "True\n",
      "4 \n",
      "2 67 9\n",
      "3 \n",
      "34 4 5\n",
      "False\n"
     ]
    }
   ],
   "source": [
    "#Question 18 : Check Subset\n",
    "\n",
    "\n",
    "T = int(input())\n",
    "for i in range(T): \n",
    "    A = int(input())\n",
    "    A_set = set(map(int,input().split())) \n",
    "    B = int(input())\n",
    "    B_set = set(map(int,input().split()))\n",
    "    print(A_set <= B_set)"
   ]
  },
  {
   "cell_type": "code",
   "execution_count": 27,
   "metadata": {},
   "outputs": [
    {
     "name": "stdout",
     "output_type": "stream",
     "text": [
      "1 2 3 4 5 6 7 8 9 10 11 12 23 45 84 78\n",
      "2\n",
      "1 2 3 4 5\n",
      "23 5 46\n",
      "False\n"
     ]
    }
   ],
   "source": [
    "#Question 19 : Check Strict Superset\n",
    "\n",
    "A = set(input().split())\n",
    "n = int(input())\n",
    "ans = True\n",
    "for i in range(n):\n",
    "    s = set(input().split())\n",
    "    if ((A > s) == False):\n",
    "        ans = False\n",
    "        break\n",
    "print(ans)"
   ]
  }
 ],
 "metadata": {
  "kernelspec": {
   "display_name": "Python 3",
   "language": "python",
   "name": "python3"
  },
  "language_info": {
   "codemirror_mode": {
    "name": "ipython",
    "version": 3
   },
   "file_extension": ".py",
   "mimetype": "text/x-python",
   "name": "python",
   "nbconvert_exporter": "python",
   "pygments_lexer": "ipython3",
   "version": "3.7.4"
  }
 },
 "nbformat": 4,
 "nbformat_minor": 2
}
