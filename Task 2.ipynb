{
 "cells": [
  {
   "cell_type": "markdown",
   "metadata": {},
   "source": [
    "## Innomatics Internship APR 21\n",
    "### Task -2\n",
    "###### AUTHOR : MOHIT KUMAR\n",
    "###### EMAIL : mohitkrs848@gmail.com"
   ]
  },
  {
   "cell_type": "code",
   "execution_count": null,
   "metadata": {},
   "outputs": [],
   "source": [
    "#Question 1 : List Comprehensions\n",
    "\n",
    "if __name__ == '__main__':\n",
    "    x = int(input())\n",
    "    y = int(input())\n",
    "    z = int(input())\n",
    "    n = int(input())\n",
    "    \n",
    "li = [[i,j,k] for i in range(x+1) for j in range(y+1) for k in range(z+1) if ((i+j+k)!= n)]\n",
    "print(li)\n"
   ]
  },
  {
   "cell_type": "code",
   "execution_count": null,
   "metadata": {},
   "outputs": [],
   "source": [
    "# Question 2 : Find the Runner-Up Score!\n",
    "\n",
    "if __name__ == '__main__':\n",
    "    n = int(input())\n",
    "    arr = map(int, input().split())\n",
    "    \n",
    "print(sorted(list(set(arr)))[-2])"
   ]
  },
  {
   "cell_type": "code",
   "execution_count": null,
   "metadata": {},
   "outputs": [],
   "source": [
    "# Question 3 : Nested Lists\n",
    "\n",
    "records =[]\n",
    "scores = []\n",
    "\n",
    "if __name__ == '__main__':\n",
    "    for _ in range(int(input())):\n",
    "        name = input()\n",
    "        score = float(input())\n",
    "        records.append([name,score])\n",
    "        scores.append(score)\n",
    "        \n",
    "    li=sorted(list(set(scores)))[1] \n",
    "    for i,j in sorted(records):\n",
    "        if j==li:\n",
    "            print(i)"
   ]
  },
  {
   "cell_type": "code",
   "execution_count": null,
   "metadata": {},
   "outputs": [],
   "source": [
    "# Question 4 : Finding the percentage\n",
    "\n",
    "if __name__ == '__main__':\n",
    "    n = int(input())\n",
    "    student_marks = {}\n",
    "    for _ in range(n):\n",
    "        line = input().split()\n",
    "        name, scores = line[0], line[1:]\n",
    "        scores = map(float, scores)\n",
    "        student_marks[name] = scores\n",
    "    query_name = input()\n",
    "    total_marks=0\n",
    "    for i in student_marks[query_name]:\n",
    "        total_marks=total_marks+i\n",
    "    avg=total_marks/3\n",
    "    print(\"%.2f\"%avg)"
   ]
  },
  {
   "cell_type": "code",
   "execution_count": null,
   "metadata": {},
   "outputs": [],
   "source": [
    "#Question 5 : Lists\n",
    "\n",
    "if __name__ == '__main__':\n",
    "    N = int(input())\n",
    "li = []\n",
    "for i in range(N):\n",
    "    cmd=list(input().split())\n",
    "    \n",
    "    if cmd[0]=='insert':\n",
    "        li.insert(int(cmd[1]),int(cmd[2]))\n",
    "    elif cmd[0]== 'print':\n",
    "        print(li)\n",
    "    elif cmd[0]==\"remove\":\n",
    "        li.remove(int(cmd[1]))\n",
    "    elif cmd[0]==\"append\":\n",
    "        li.append(int(cmd[1]))\n",
    "    elif cmd[0]==\"sort\":\n",
    "        li.sort()\n",
    "    elif cmd[0]==\"pop\":\n",
    "        li.pop()\n",
    "    elif cmd[0]==\"reverse\":\n",
    "        li.reverse()"
   ]
  },
  {
   "cell_type": "code",
   "execution_count": null,
   "metadata": {},
   "outputs": [],
   "source": [
    "#Question 6 : Tuples\n",
    "\n",
    "if __name__ == '__main__':\n",
    "    n = int(input())\n",
    "    integer_list = map(int, input().split())\n",
    "\n",
    "t = tuple(integer_list)\n",
    "print(hash(t))"
   ]
  },
  {
   "cell_type": "code",
   "execution_count": null,
   "metadata": {},
   "outputs": [],
   "source": [
    "#Question 7 : Introduction to Sets\n",
    "\n",
    "def average(array):\n",
    "    avg=sum(set(arr))/len(set(arr))\n",
    "    return avg\n",
    "\n",
    "if __name__ == '__main__':\n",
    "    n = int(input())\n",
    "    arr = list(map(int, input().split()))\n",
    "    result = average(arr)\n",
    "    print(result)"
   ]
  },
  {
   "cell_type": "code",
   "execution_count": null,
   "metadata": {},
   "outputs": [],
   "source": [
    "#Question 8 : No Idea!\n",
    "\n",
    "list(map(int,input().strip().split()))\n",
    "arr = list(map(int,input().strip().split()))\n",
    "a = set(map(int,input().strip().split()))\n",
    "b = set(map(int,input().strip().split()))\n",
    "points = 0\n",
    "for i in arr:\n",
    "    if i in a:\n",
    "        points = points + 1\n",
    "    elif i in b :\n",
    "        points = points - 1\n",
    "    print(points)"
   ]
  },
  {
   "cell_type": "code",
   "execution_count": null,
   "metadata": {},
   "outputs": [],
   "source": [
    "# Question 9 : Symmetric Difference\n",
    "\n",
    "m = int(input().strip())\n",
    "m_set = set(map(int, input().strip().split()))\n",
    "    \n",
    "n = int(input().strip())\n",
    "n_set = set(map(int, input().strip().split()))\n",
    "    \n",
    "for i in sorted(m_set ^ n_set):\n",
    "    print(i)"
   ]
  },
  {
   "cell_type": "code",
   "execution_count": null,
   "metadata": {},
   "outputs": [],
   "source": [
    "#Question 10 : Set .add()\n",
    "\n",
    "N = int(input())\n",
    "names = set()\n",
    "for i in range(N):\n",
    "    names.add(input())\n",
    "print(len(names))"
   ]
  },
  {
   "cell_type": "code",
   "execution_count": null,
   "metadata": {},
   "outputs": [],
   "source": [
    "#Question 11 : Set .discard(), .remove() & .pop()\n",
    "\n",
    "n = int(input())\n",
    "s = set(map(int, input().split()))\n",
    "N = int(input())\n",
    "for i in range(N):\n",
    "    a = list(input().strip().split())\n",
    "\n",
    "    if a[0] == 'remove':\n",
    "        s.remove(int(a[1]))\n",
    "    elif a[0] == 'discard':\n",
    "        s.discard(int(a[1]))\n",
    "    else:\n",
    "        s.pop()\n",
    "\n",
    "print(sum(s))"
   ]
  },
  {
   "cell_type": "code",
   "execution_count": null,
   "metadata": {},
   "outputs": [],
   "source": [
    "#Question 12 : Set .union() Operation\n",
    "\n",
    "n = int(input())\n",
    "eng = set(input().split())\n",
    "\n",
    "b = int(input())\n",
    "french = set(input().split())\n",
    "\n",
    "print(len(eng | french))"
   ]
  },
  {
   "cell_type": "code",
   "execution_count": null,
   "metadata": {},
   "outputs": [],
   "source": [
    "#Question 13 : Set .intersection() Operation\n",
    "\n",
    "n = int(input())\n",
    "eng = set(input().split())\n",
    "\n",
    "b = int(input())\n",
    "french = set(input().split())\n",
    "\n",
    "print(len(eng & french))"
   ]
  },
  {
   "cell_type": "code",
   "execution_count": null,
   "metadata": {},
   "outputs": [],
   "source": [
    "#Question 14 : Set .difference() Operation\n",
    "\n",
    "n = int(input())\n",
    "eng = set(input().split())\n",
    "\n",
    "b = int(input())\n",
    "french = set(input().split())\n",
    "\n",
    "print(len(eng-french))"
   ]
  },
  {
   "cell_type": "code",
   "execution_count": null,
   "metadata": {},
   "outputs": [],
   "source": [
    "#Question 15 : Set .symmetric_difference() Operation\n",
    "\n",
    "n = int(input())\n",
    "eng = set(input().split())\n",
    "\n",
    "b = int(input())\n",
    "french = set(input().split())\n",
    "\n",
    "print(len(eng ^ french))"
   ]
  },
  {
   "cell_type": "code",
   "execution_count": null,
   "metadata": {},
   "outputs": [],
   "source": [
    "#Question 16 : Set Mutations\n",
    "\n",
    "A = int(input())\n",
    "A_list = set(map(int, input().split()))\n",
    "\n",
    "N = int(input())\n",
    "for i in range(N):\n",
    "    opr, _ = input().split(' ')\n",
    "    b =set(map(int, input().split()))\n",
    "    if opr == \"update\":\n",
    "        A_list |= b\n",
    "    elif opr == \"intersection_update\":\n",
    "        A_list &= b\n",
    "    elif opr == \"difference_update\":\n",
    "        A_list -= b\n",
    "    elif opr == \"symmetric_difference_update\":\n",
    "        A_list ^= b\n",
    "\n",
    "print(sum(A_list))"
   ]
  },
  {
   "cell_type": "code",
   "execution_count": null,
   "metadata": {},
   "outputs": [],
   "source": [
    "#Question 17 : The Captain's Room\n",
    "\n",
    "K = int(input())\n",
    "rooms = map(int, input().split())\n",
    "rooms = sorted(rooms)\n",
    "\n",
    "for i in range(len(rooms)):\n",
    "    if(i != (len(rooms)-1)):\n",
    "        if(rooms[i]!=rooms[i-1] and rooms[i]!=rooms[i+1]):\n",
    "            print(rooms[i])\n",
    "            break;\n",
    "    else:\n",
    "        print(rooms[i])\n"
   ]
  },
  {
   "cell_type": "code",
   "execution_count": null,
   "metadata": {},
   "outputs": [],
   "source": [
    "#Question 18 : Check Subset\n",
    "\n",
    "\n",
    "T = int(input())\n",
    "for i in range(T): \n",
    "    A = int(input())\n",
    "    A_set = set(map(int,input().split())) \n",
    "    B = int(input())\n",
    "    B_set = set(map(int,input().split()))\n",
    "    print(A_set <= B_set)"
   ]
  },
  {
   "cell_type": "code",
   "execution_count": null,
   "metadata": {},
   "outputs": [],
   "source": [
    "#Question 19 : Check Strict Superset\n",
    "\n",
    "A = set(input().split())\n",
    "n = int(input())\n",
    "ans = True\n",
    "for i in range(n):\n",
    "    s = set(input().split())\n",
    "    if ((A > s) == False):\n",
    "        ans = False\n",
    "        break\n",
    "print(ans)"
   ]
  }
 ],
 "metadata": {
  "kernelspec": {
   "display_name": "Python 3",
   "language": "python",
   "name": "python3"
  },
  "language_info": {
   "codemirror_mode": {
    "name": "ipython",
    "version": 3
   },
   "file_extension": ".py",
   "mimetype": "text/x-python",
   "name": "python",
   "nbconvert_exporter": "python",
   "pygments_lexer": "ipython3",
   "version": "3.7.4"
  }
 },
 "nbformat": 4,
 "nbformat_minor": 2
}
